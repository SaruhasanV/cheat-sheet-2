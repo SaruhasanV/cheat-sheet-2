{
  "nbformat": 4,
  "nbformat_minor": 0,
  "metadata": {
    "colab": {
      "name": "cheat sheet 2",
      "provenance": [],
      "collapsed_sections": []
    },
    "kernelspec": {
      "name": "python3",
      "display_name": "Python 3"
    },
    "language_info": {
      "name": "python"
    }
  },
  "cells": [
    {
      "cell_type": "markdown",
      "source": [
        "**Unzip**- Equal to: 1) unpack the zipped list, 2) zip\n",
        "\n",
        "the result"
      ],
      "metadata": {
        "id": "dNw8UQNtT8kC"
      }
    },
    {
      "cell_type": "code",
      "execution_count": 88,
      "metadata": {
        "colab": {
          "base_uri": "https://localhost:8080/"
        },
        "id": "PPnjWwEH_7eb",
        "outputId": "e56c63bd-edfb-42d2-990e-bed798f1e587"
      },
      "outputs": [
        {
          "output_type": "stream",
          "name": "stdout",
          "text": [
            "['green', 'red', 'black']\n",
            "['apple', 'mango', 'grapes']\n"
          ]
        }
      ],
      "source": [
        "colours_and_friuts = [('green', 'apple'), ('red', 'mango'), ('black', 'grapes')]\n",
        "colours, fruits = list(zip(*colours_and_fruits))\n",
        "colours =list(colours)\n",
        "fruits =list(fruits)\n",
        "print(colours)\n",
        "print(fruits)"
      ]
    },
    {
      "cell_type": "markdown",
      "source": [
        "**zip(i1, i2, ...)**- Groups the i-th elements of iterators i1, i2,\n",
        "\n",
        "... together"
      ],
      "metadata": {
        "id": "APsEU_kBUZrj"
      }
    },
    {
      "cell_type": "code",
      "source": [
        "first_names = ['arul', 'saru']\n",
        "last_names = ['kumar', 'hasan']\n",
        "first_and_last_names= list(zip(first_names, last_names))\n",
        "print(first_and_last_names)"
      ],
      "metadata": {
        "colab": {
          "base_uri": "https://localhost:8080/"
        },
        "id": "kJkFwuVCMSrM",
        "outputId": "d94aa1e3-bec3-4d8f-a987-45f717ca65f0"
      },
      "execution_count": 89,
      "outputs": [
        {
          "output_type": "stream",
          "name": "stdout",
          "text": [
            "[('arul', 'kumar'), ('saru', 'hasan')]\n"
          ]
        }
      ]
    },
    {
      "cell_type": "code",
      "source": [
        "colours = ['green','red','black','blue']\n",
        "fruits = ['apple','mango','grapes']\n",
        "colours_and_fruits=list(zip(colours,fruits))\n",
        "print(colours_and_fruits)"
      ],
      "metadata": {
        "colab": {
          "base_uri": "https://localhost:8080/"
        },
        "id": "ZDGAWAR8NPnU",
        "outputId": "2a357db2-6f34-4688-da05-13f92b199b18"
      },
      "execution_count": 90,
      "outputs": [
        {
          "output_type": "stream",
          "name": "stdout",
          "text": [
            "[('green', 'apple'), ('red', 'mango'), ('black', 'grapes')]\n"
          ]
        }
      ]
    },
    {
      "cell_type": "markdown",
      "source": [
        "**The len() Function**-\n",
        "Evaluates to the integer value of the number of characters in a string"
      ],
      "metadata": {
        "id": "p4qimuZwd8Fj"
      }
    },
    {
      "cell_type": "code",
      "source": [
        "len('saru')\n"
      ],
      "metadata": {
        "colab": {
          "base_uri": "https://localhost:8080/"
        },
        "id": "8zj72N17dMfM",
        "outputId": "14921c87-d473-4ed5-ae83-deaf56277996"
      },
      "execution_count": 91,
      "outputs": [
        {
          "output_type": "execute_result",
          "data": {
            "text/plain": [
              "4"
            ]
          },
          "metadata": {},
          "execution_count": 91
        }
      ]
    },
    {
      "cell_type": "markdown",
      "source": [
        "**if Statements**"
      ],
      "metadata": {
        "id": "2p6bPB6Pf3cM"
      }
    },
    {
      "cell_type": "code",
      "source": [
        "name = 'Saru'\n",
        "if name == 'Saru':\n",
        "    print('Hi, Saru.')"
      ],
      "metadata": {
        "colab": {
          "base_uri": "https://localhost:8080/"
        },
        "id": "GWCQbrSDd3G0",
        "outputId": "d07d4dab-3ab6-405c-897b-cd40611bae21"
      },
      "execution_count": 93,
      "outputs": [
        {
          "output_type": "stream",
          "name": "stdout",
          "text": [
            "Hi, Saru.\n"
          ]
        }
      ]
    },
    {
      "cell_type": "markdown",
      "source": [
        "**Else Statements**"
      ],
      "metadata": {
        "id": "ZRUXIxaDgnK0"
      }
    },
    {
      "cell_type": "code",
      "source": [
        "name = 'Prem' \n",
        "if name == 'Saru':\n",
        "    print('Hi, Saru.')\n",
        "else:\n",
        "    print('Hello, Stranger.')"
      ],
      "metadata": {
        "colab": {
          "base_uri": "https://localhost:8080/"
        },
        "id": "xX_hO9pZf-BK",
        "outputId": "9270c761-8d06-467c-b8e4-662c459d3b3f"
      },
      "execution_count": 94,
      "outputs": [
        {
          "output_type": "stream",
          "name": "stdout",
          "text": [
            "Hello, Stranger.\n"
          ]
        }
      ]
    },
    {
      "cell_type": "markdown",
      "source": [
        "**while**- While loop - same semantics"
      ],
      "metadata": {
        "id": "fgpcjMcwMBnC"
      }
    },
    {
      "cell_type": "code",
      "source": [
        "spam = 0\n",
        "while spam < 5:\n",
        "    print('Hello, world.')\n",
        "    spam = spam + 1"
      ],
      "metadata": {
        "colab": {
          "base_uri": "https://localhost:8080/"
        },
        "id": "NVyEttLajHKU",
        "outputId": "db3ac5fd-9902-40a4-da27-38cd7894308b"
      },
      "execution_count": 97,
      "outputs": [
        {
          "output_type": "stream",
          "name": "stdout",
          "text": [
            "Hello, world.\n",
            "Hello, world.\n",
            "Hello, world.\n",
            "Hello, world.\n",
            "Hello, world.\n"
          ]
        }
      ]
    },
    {
      "cell_type": "markdown",
      "source": [
        "**continue Statements**-\n",
        "When the program execution reaches a continue statement, the program execution immediately jumps back to the start of the loop."
      ],
      "metadata": {
        "id": "VIFEao_8lces"
      }
    },
    {
      "cell_type": "code",
      "source": [
        "while True:\n",
        "    print('Who are you?')\n",
        "    name = input()\n",
        "    if name != 'Arul':\n",
        "        continue\n",
        "    print('Hello, Arul. What is the password? (It is a fish.)')\n",
        "    password = input()\n",
        "    if password == 'swordfish':\n",
        "        break\n",
        "print('Access granted.')"
      ],
      "metadata": {
        "colab": {
          "base_uri": "https://localhost:8080/"
        },
        "id": "MflkSex1kynd",
        "outputId": "25a982cc-5c6a-4cfd-83c2-ae4aa9257497"
      },
      "execution_count": 98,
      "outputs": [
        {
          "output_type": "stream",
          "name": "stdout",
          "text": [
            "Who are you?\n",
            "Arul\n",
            "Hello, Arul. What is the password? (It is a fish.)\n",
            "swordfish\n",
            "Access granted.\n"
          ]
        }
      ]
    },
    {
      "cell_type": "markdown",
      "source": [
        "**break Statements**-\n",
        "If the execution reaches a break statement, it immediately exits the while loop’s clause:"
      ],
      "metadata": {
        "id": "DaivXI4plo6c"
      }
    },
    {
      "cell_type": "code",
      "source": [
        "while True:\n",
        "    print('Please type your name.')\n",
        "    name = input()\n",
        "    if name == 'Ajith':\n",
        "        break\n",
        "    print('Thank you!')"
      ],
      "metadata": {
        "colab": {
          "base_uri": "https://localhost:8080/"
        },
        "id": "LzwlZmXBjpuS",
        "outputId": "9b407394-3ca5-435e-a5b6-71f27f1fd9d3"
      },
      "execution_count": 99,
      "outputs": [
        {
          "name": "stdout",
          "output_type": "stream",
          "text": [
            "Please type your name.\n",
            "Ajith\n"
          ]
        }
      ]
    },
    {
      "cell_type": "markdown",
      "source": [
        "**for Loops and the range() Function**"
      ],
      "metadata": {
        "id": "GNYrQ8Utm8A7"
      }
    },
    {
      "cell_type": "code",
      "source": [
        "print('My name is')\n",
        "for i in range(7):\n",
        "     print('Saruhasan seven Times ({})'.format(str(i)))"
      ],
      "metadata": {
        "colab": {
          "base_uri": "https://localhost:8080/"
        },
        "id": "ZB8cDjLElz9D",
        "outputId": "bcd0856e-ced2-4802-b271-89becca090d2"
      },
      "execution_count": 100,
      "outputs": [
        {
          "output_type": "stream",
          "name": "stdout",
          "text": [
            "My name is\n",
            "Saruhasan seven Times (0)\n",
            "Saruhasan seven Times (1)\n",
            "Saruhasan seven Times (2)\n",
            "Saruhasan seven Times (3)\n",
            "Saruhasan seven Times (4)\n",
            "Saruhasan seven Times (5)\n",
            "Saruhasan seven Times (6)\n"
          ]
        }
      ]
    },
    {
      "cell_type": "markdown",
      "source": [
        "**The range() function can also be called with three arguments. The first two arguments will be the start and stop values, and the third will be the step argument. The step is the amount that the variable is increased by after each iteration.**"
      ],
      "metadata": {
        "id": "3ddp288Wng_M"
      }
    },
    {
      "cell_type": "code",
      "source": [
        "for i in range(0, 10, 1):\n",
        "    print(i)"
      ],
      "metadata": {
        "colab": {
          "base_uri": "https://localhost:8080/"
        },
        "id": "CXUo_U9fnbDj",
        "outputId": "b11dabe4-041b-4194-c6ff-97aed185d596"
      },
      "execution_count": 101,
      "outputs": [
        {
          "output_type": "stream",
          "name": "stdout",
          "text": [
            "0\n",
            "1\n",
            "2\n",
            "3\n",
            "4\n",
            "5\n",
            "6\n",
            "7\n",
            "8\n",
            "9\n"
          ]
        }
      ]
    },
    {
      "cell_type": "markdown",
      "source": [
        "**You can even use a negative number for the step argument to make the for loop count down instead of up.**"
      ],
      "metadata": {
        "id": "6qenPF9mnsNL"
      }
    },
    {
      "cell_type": "code",
      "source": [
        "for i in range(5, -2, -2):\n",
        "     print(i)"
      ],
      "metadata": {
        "colab": {
          "base_uri": "https://localhost:8080/"
        },
        "id": "X1Vvn3aenw7b",
        "outputId": "69353afc-b42b-4450-d370-a5fb185781ec"
      },
      "execution_count": 103,
      "outputs": [
        {
          "output_type": "stream",
          "name": "stdout",
          "text": [
            "5\n",
            "3\n",
            "1\n",
            "-1\n"
          ]
        }
      ]
    },
    {
      "cell_type": "markdown",
      "source": [
        "**Logical AND operator**-\n",
        "Logical operator returns True if both the operands are True else it returns False."
      ],
      "metadata": {
        "id": "XLOmJP7jrcMj"
      }
    },
    {
      "cell_type": "code",
      "source": [
        "a = 10\n",
        "b = 10\n",
        "c = -10\n",
        "  \n",
        "if a > 0 and b > 0:\n",
        "    print(\"The numbers are greater than 0\")\n",
        "  \n",
        "if a > 0 and b > 0 and c > 0:\n",
        "    print(\"The numbers are greater than 0\")\n",
        "else:\n",
        "    print(\"Atleast one number is not greater than 0\")"
      ],
      "metadata": {
        "colab": {
          "base_uri": "https://localhost:8080/"
        },
        "id": "TCNfB6bloR7E",
        "outputId": "c5dc97e4-227f-43d1-aae7-084570991cf2"
      },
      "execution_count": 104,
      "outputs": [
        {
          "output_type": "stream",
          "name": "stdout",
          "text": [
            "The numbers are greater than 0\n",
            "Atleast one number is not greater than 0\n"
          ]
        }
      ]
    },
    {
      "cell_type": "markdown",
      "source": [
        "If the first expression evaluated to be false while using and operator, then the further expressions are not evaluated."
      ],
      "metadata": {
        "id": "0PuTf9Z4rUaL"
      }
    },
    {
      "cell_type": "code",
      "source": [
        "a = 10\n",
        "b = 12\n",
        "c = 0\n",
        "  \n",
        "if a and b and c:\n",
        "    print(\"All the numbers have boolean value as True\")\n",
        "else:\n",
        "    print(\"Atleast one number has boolean value as False\")"
      ],
      "metadata": {
        "colab": {
          "base_uri": "https://localhost:8080/"
        },
        "id": "8JcOwHvtqQc8",
        "outputId": "9b183e5d-a133-4ffd-d3dd-c805bba16c20"
      },
      "execution_count": 105,
      "outputs": [
        {
          "output_type": "stream",
          "name": "stdout",
          "text": [
            "Atleast one number has boolean value as False\n"
          ]
        }
      ]
    },
    {
      "cell_type": "markdown",
      "source": [
        "**Logical or operator**-\n",
        "Logical or operator returns True if either of the operands is True.\n",
        "\n"
      ],
      "metadata": {
        "id": "29QIxHrWyYPj"
      }
    },
    {
      "cell_type": "code",
      "source": [
        "a = 10\n",
        "b = -10\n",
        "c = 0\n",
        "  \n",
        "if a > 0 or b > 0:\n",
        "    print(\"Either of the number is greater than 0\")\n",
        "else:\n",
        "    print(\"No number is greater than 0\")\n",
        "  \n",
        "if b > 0 or c > 0:\n",
        "    print(\"Either of the number is greater than 0\")\n",
        "else:\n",
        "    print(\"No number is greater than 0\")"
      ],
      "metadata": {
        "colab": {
          "base_uri": "https://localhost:8080/"
        },
        "id": "nvpT0NEuwpFa",
        "outputId": "286c4668-67f0-49f5-c020-fd3bd425ffaa"
      },
      "execution_count": 106,
      "outputs": [
        {
          "output_type": "stream",
          "name": "stdout",
          "text": [
            "Either of the number is greater than 0\n",
            "No number is greater than 0\n"
          ]
        }
      ]
    },
    {
      "cell_type": "markdown",
      "source": [
        "**Logical not operator**-\n",
        "Logical not operator work with the single boolean value. If the boolean value is True it returns False and vice-versa."
      ],
      "metadata": {
        "id": "JxFwKPl2zTza"
      }
    },
    {
      "cell_type": "code",
      "source": [
        "a = 10\n",
        "  \n",
        "if not a:\n",
        "    print(\"Boolean value of a is True\")\n",
        "  \n",
        "if not (a%3 == 0 or a%5 == 0):\n",
        "    print(\"10 is not divisible by either 3 or 5\")\n",
        "else:\n",
        "    print(\"10 is divisible by either 3 or 5\")"
      ],
      "metadata": {
        "colab": {
          "base_uri": "https://localhost:8080/"
        },
        "id": "31emESUByrSr",
        "outputId": "dbbbaae8-5a3b-45f2-edea-310860199db2"
      },
      "execution_count": 107,
      "outputs": [
        {
          "output_type": "stream",
          "name": "stdout",
          "text": [
            "10 is divisible by either 3 or 5\n"
          ]
        }
      ]
    },
    {
      "cell_type": "markdown",
      "source": [
        "**if true false Example**-It has the value False. If you want to set it to on, you would type:"
      ],
      "metadata": {
        "id": "imfl5wqP2AIy"
      }
    },
    {
      "cell_type": "code",
      "source": [
        "a == (1 > 2)\n",
        "b == (3 < 5)\n",
        "if a:\n",
        "    print(\"a is True\")\n",
        "else:\n",
        "    print(\"a is False\")\n",
        "if b:\n",
        "  print(\"b is True\")\n",
        "else:\n",
        "  print(\"b is Flase\")"
      ],
      "metadata": {
        "colab": {
          "base_uri": "https://localhost:8080/"
        },
        "id": "xUMeaDyQ1Fcb",
        "outputId": "24fc0eb4-f72c-4fe9-8230-d95d9b2ae85a"
      },
      "execution_count": 108,
      "outputs": [
        {
          "output_type": "stream",
          "name": "stdout",
          "text": [
            "a is True\n",
            "b is True\n"
          ]
        }
      ]
    },
    {
      "cell_type": "markdown",
      "source": [
        "**in**- Checks whether element is in sequence"
      ],
      "metadata": {
        "id": "vueZT2Vx6rhq"
      }
    },
    {
      "cell_type": "code",
      "source": [
        "Numbers=(11,22,33,44)\n",
        "print(88 in Numbers) "
      ],
      "metadata": {
        "colab": {
          "base_uri": "https://localhost:8080/"
        },
        "id": "qhmsxm6p4noz",
        "outputId": "824802fe-212d-48b9-d0b4-0ff6ca8ecdd9"
      },
      "execution_count": 109,
      "outputs": [
        {
          "output_type": "stream",
          "name": "stdout",
          "text": [
            "False\n"
          ]
        }
      ]
    },
    {
      "cell_type": "markdown",
      "source": [
        "**List**- A container data type that stores a\n",
        "sequence of elements. Unlike strings, lists\n",
        "are mutable: modification possible."
      ],
      "metadata": {
        "id": "DIQLA_8XZH5U"
      }
    },
    {
      "cell_type": "code",
      "source": [
        "a = [1,5,8,9,5,7]\n",
        "print(len(a))"
      ],
      "metadata": {
        "colab": {
          "base_uri": "https://localhost:8080/"
        },
        "id": "38UJJ35AZLPF",
        "outputId": "8070d143-51d4-42cf-ff5a-aa482ef0806f"
      },
      "execution_count": 141,
      "outputs": [
        {
          "output_type": "stream",
          "name": "stdout",
          "text": [
            "6\n"
          ]
        }
      ]
    },
    {
      "cell_type": "markdown",
      "source": [
        "**Python Lambda Function with List Comprehension**-\n",
        "In this example, we will use the lambda function with list comprehension and lambda with for loop. We will try to print the table of 10."
      ],
      "metadata": {
        "id": "T6-M1sRPKKBV"
      }
    },
    {
      "cell_type": "code",
      "source": [
        "tables = [lambda x=x: x*10 for x in range(1, 11)]\n",
        " \n",
        "for table in tables:\n",
        "    print(table())"
      ],
      "metadata": {
        "colab": {
          "base_uri": "https://localhost:8080/"
        },
        "id": "AgTskDRd60ZC",
        "outputId": "e4440c4b-9edd-4b56-c73d-e3f15b1a44e2"
      },
      "execution_count": 110,
      "outputs": [
        {
          "output_type": "stream",
          "name": "stdout",
          "text": [
            "10\n",
            "20\n",
            "30\n",
            "40\n",
            "50\n",
            "60\n",
            "70\n",
            "80\n",
            "90\n",
            "100\n"
          ]
        }
      ]
    },
    {
      "cell_type": "markdown",
      "source": [
        "**lst.append()**-Appends element x to the list lst."
      ],
      "metadata": {
        "id": "HwuGWBF-ODru"
      }
    },
    {
      "cell_type": "code",
      "source": [
        "lst = ['cat' , 'dog' , 'bat']\n",
        "lst.append('moose')\n",
        "lst"
      ],
      "metadata": {
        "colab": {
          "base_uri": "https://localhost:8080/"
        },
        "id": "6h060aNDKVdN",
        "outputId": "b6306e58-8c38-4beb-a98f-b9c471a0f038"
      },
      "execution_count": 116,
      "outputs": [
        {
          "output_type": "execute_result",
          "data": {
            "text/plain": [
              "['cat', 'dog', 'bat', 'moose']"
            ]
          },
          "metadata": {},
          "execution_count": 116
        }
      ]
    },
    {
      "cell_type": "markdown",
      "source": [
        "**lst.insert()**-Inserts element x at position (index) i in\n",
        "\n",
        "the list lst."
      ],
      "metadata": {
        "id": "vg49Vs04N8VU"
      }
    },
    {
      "cell_type": "code",
      "source": [
        "lst = ['cat', 'dog', 'bat']\n",
        "lst.insert(1, 'chicken')\n",
        "lst"
      ],
      "metadata": {
        "colab": {
          "base_uri": "https://localhost:8080/"
        },
        "id": "p7htK9djNUVV",
        "outputId": "7795f822-a764-4e36-9013-34faeaacf849"
      },
      "execution_count": 117,
      "outputs": [
        {
          "output_type": "execute_result",
          "data": {
            "text/plain": [
              "['cat', 'chicken', 'dog', 'bat']"
            ]
          },
          "metadata": {},
          "execution_count": 117
        }
      ]
    },
    {
      "cell_type": "markdown",
      "source": [
        "**lst.index()**- Returns the position (index) of the first\n",
        "occurrence of value x in the list lst."
      ],
      "metadata": {
        "id": "b3_jZgYrPwq0"
      }
    },
    {
      "cell_type": "code",
      "source": [
        "lst = ['aathi', 'arul' , 'ajith' , 'irfan']\n",
        "lst.index('irfan')"
      ],
      "metadata": {
        "colab": {
          "base_uri": "https://localhost:8080/"
        },
        "id": "YqdJft6cOr4c",
        "outputId": "f6443e58-c9c9-4fab-bb68-8b0e4a01bf83"
      },
      "execution_count": 119,
      "outputs": [
        {
          "output_type": "execute_result",
          "data": {
            "text/plain": [
              "3"
            ]
          },
          "metadata": {},
          "execution_count": 119
        }
      ]
    },
    {
      "cell_type": "markdown",
      "source": [
        "**lst.remove()**-If the value appears multiple times in the list, only the first instance of the value will be removed."
      ],
      "metadata": {
        "id": "7aTQMQ1xQWDM"
      }
    },
    {
      "cell_type": "code",
      "source": [
        "lst = ['aathi', 'arul' , 'ajith' , 'irfan']\n",
        "lst.remove('arul')\n",
        "lst"
      ],
      "metadata": {
        "colab": {
          "base_uri": "https://localhost:8080/"
        },
        "outputId": "1b1b588d-0342-48f2-e66b-2e1e88076940",
        "id": "1DpPzHFzP_Ev"
      },
      "execution_count": 121,
      "outputs": [
        {
          "output_type": "execute_result",
          "data": {
            "text/plain": [
              "['aathi', 'ajith', 'irfan']"
            ]
          },
          "metadata": {},
          "execution_count": 121
        }
      ]
    },
    {
      "cell_type": "markdown",
      "source": [
        "**lst.sort()**- Sorts the elements in the list lst in\n",
        "ascending order."
      ],
      "metadata": {
        "id": "f0lGFCV4SIRr"
      }
    },
    {
      "cell_type": "code",
      "source": [
        "lst = ['suriya' , 'naveen' ,'manoj' ,'bala' ,'arul' ,'vijay' ]\n",
        "lst.sort()\n",
        "lst"
      ],
      "metadata": {
        "colab": {
          "base_uri": "https://localhost:8080/"
        },
        "id": "hng52QdcQzfc",
        "outputId": "59bbfac0-d37d-4ee1-b25d-4b37068b65e9"
      },
      "execution_count": 123,
      "outputs": [
        {
          "output_type": "execute_result",
          "data": {
            "text/plain": [
              "['arul', 'bala', 'manoj', 'naveen', 'suriya', 'vijay']"
            ]
          },
          "metadata": {},
          "execution_count": 123
        }
      ]
    },
    {
      "cell_type": "markdown",
      "source": [
        "**lst.reverse()**- Reverses the order of elements in the list"
      ],
      "metadata": {
        "id": "catwBDhcS9Yc"
      }
    },
    {
      "cell_type": "code",
      "source": [
        "lst = ['suriya' , 'naveen' ,'manoj' ,'bala' ,'arul' ,'vijay' ]\n",
        "lst.reverse()\n",
        "lst"
      ],
      "metadata": {
        "colab": {
          "base_uri": "https://localhost:8080/"
        },
        "outputId": "7ba46f73-05cc-4b09-9ff7-e68b81b112c6",
        "id": "hqwqjw1ySs4b"
      },
      "execution_count": 124,
      "outputs": [
        {
          "output_type": "execute_result",
          "data": {
            "text/plain": [
              "['vijay', 'arul', 'bala', 'manoj', 'naveen', 'suriya']"
            ]
          },
          "metadata": {},
          "execution_count": 124
        }
      ]
    },
    {
      "cell_type": "markdown",
      "source": [
        "**lst.clear()**- Removes all elements from the list\n",
        "lst–which becomes empty."
      ],
      "metadata": {
        "id": "h8sWaysUTQ0k"
      }
    },
    {
      "cell_type": "code",
      "source": [
        "lst = ['aathi', 'arul' , 'ajith' , 'irfan']\n",
        "lst.clear()\n",
        "lst"
      ],
      "metadata": {
        "colab": {
          "base_uri": "https://localhost:8080/"
        },
        "outputId": "0710548e-7c64-4345-8f67-f669a1a43ccb",
        "id": "EyVkePs0Tdt8"
      },
      "execution_count": 125,
      "outputs": [
        {
          "output_type": "execute_result",
          "data": {
            "text/plain": [
              "[]"
            ]
          },
          "metadata": {},
          "execution_count": 125
        }
      ]
    },
    {
      "cell_type": "markdown",
      "source": [
        "**lst.count()**- Counts the number of occurrences of\n",
        "element x in the list lst."
      ],
      "metadata": {
        "id": "WmdNxQdxUcML"
      }
    },
    {
      "cell_type": "code",
      "source": [
        "lst = ['manoj', 'aathi', 'arul' , 'ajith' , 'irfan']\n",
        "lst.count('aathi')\n"
      ],
      "metadata": {
        "colab": {
          "base_uri": "https://localhost:8080/"
        },
        "outputId": "a28a426b-d09e-4331-d1e1-656823410886",
        "id": "-CmwPjHeT1_a"
      },
      "execution_count": 128,
      "outputs": [
        {
          "output_type": "execute_result",
          "data": {
            "text/plain": [
              "1"
            ]
          },
          "metadata": {},
          "execution_count": 128
        }
      ]
    },
    {
      "cell_type": "markdown",
      "source": [
        "**lst.copy()**- Returns a copy of the list lst. Copies only\n",
        "the list, not the elements in the list (shallow copy)"
      ],
      "metadata": {
        "id": "Ky_0QZUHU6pF"
      }
    },
    {
      "cell_type": "code",
      "source": [
        "lst = ['ajith', 'bala', 'chandru', 'mayilan', 'hari', 'mani',]\n",
        "lst.copy()"
      ],
      "metadata": {
        "colab": {
          "base_uri": "https://localhost:8080/"
        },
        "id": "5teYW0dAVCIJ",
        "outputId": "9c76a679-8918-4460-cfde-a99df4825583"
      },
      "execution_count": 130,
      "outputs": [
        {
          "output_type": "execute_result",
          "data": {
            "text/plain": [
              "['ajith', 'bala', 'chandru', 'mayilan', 'hari', 'mani']"
            ]
          },
          "metadata": {},
          "execution_count": 130
        }
      ]
    },
    {
      "cell_type": "markdown",
      "source": [
        "**lst.pop()**- Removes and returns the final element of\n",
        "\n",
        "the list lst."
      ],
      "metadata": {
        "id": "gzeZR1ClVvZ9"
      }
    },
    {
      "cell_type": "code",
      "source": [
        "lst = ['ajith', 'bala', 'chandru', 'mayilan', 'hari', 'mani',]\n",
        "lst.pop()"
      ],
      "metadata": {
        "colab": {
          "base_uri": "https://localhost:8080/",
          "height": 35
        },
        "outputId": "5a21c378-e119-4209-8c35-bc214041280b",
        "id": "rKQ-8idtWIx6"
      },
      "execution_count": 132,
      "outputs": [
        {
          "output_type": "execute_result",
          "data": {
            "text/plain": [
              "'mani'"
            ],
            "application/vnd.google.colaboratory.intrinsic+json": {
              "type": "string"
            }
          },
          "metadata": {},
          "execution_count": 132
        }
      ]
    },
    {
      "cell_type": "markdown",
      "source": [
        "**lst.extend(iter)**- Adds all elements of an iterable iter (e.g.\n",
        "\n",
        "another list) to the list lst."
      ],
      "metadata": {
        "id": "SiZHg79SWvik"
      }
    },
    {
      "cell_type": "code",
      "source": [
        "lst = ['ajith', 'bala', 'chandru', 'mayilan', 'hari', 'mani',]\n",
        "lst.extend(['krishna', 'bharath', 'sanjay'])\n",
        "lst"
      ],
      "metadata": {
        "colab": {
          "base_uri": "https://localhost:8080/"
        },
        "outputId": "4eb8cb98-f473-4361-a783-5ad96ccbe93d",
        "id": "J55ZfozKW2I5"
      },
      "execution_count": 136,
      "outputs": [
        {
          "output_type": "execute_result",
          "data": {
            "text/plain": [
              "['ajith',\n",
              " 'bala',\n",
              " 'chandru',\n",
              " 'mayilan',\n",
              " 'hari',\n",
              " 'mani',\n",
              " 'krishna',\n",
              " 'bharath',\n",
              " 'sanjay']"
            ]
          },
          "metadata": {},
          "execution_count": 136
        }
      ]
    },
    {
      "cell_type": "markdown",
      "source": [
        "**Stack**- Python lists can be used intuitively as stack\n",
        "via the two list operations append() and\n",
        "pop()."
      ],
      "metadata": {
        "id": "a4CNDWSiX7XV"
      }
    },
    {
      "cell_type": "code",
      "source": [
        "stack = ['chandru', 'mayilan', 'shakthi', 'kani']\n",
        "stack.append('sarath')\n",
        "stack.pop()"
      ],
      "metadata": {
        "colab": {
          "base_uri": "https://localhost:8080/",
          "height": 35
        },
        "id": "_RQf9xqNX-pD",
        "outputId": "48505900-33be-4ce7-8398-6001758e5084"
      },
      "execution_count": 140,
      "outputs": [
        {
          "output_type": "execute_result",
          "data": {
            "text/plain": [
              "'sarath'"
            ],
            "application/vnd.google.colaboratory.intrinsic+json": {
              "type": "string"
            }
          },
          "metadata": {},
          "execution_count": 140
        }
      ]
    }
  ]
}